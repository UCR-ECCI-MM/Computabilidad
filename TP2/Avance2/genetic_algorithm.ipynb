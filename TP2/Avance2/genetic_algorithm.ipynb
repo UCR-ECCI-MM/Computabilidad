{
 "cells": [
  {
   "cell_type": "code",
   "execution_count": 1,
   "id": "c9383747",
   "metadata": {},
   "outputs": [],
   "source": [
    "# Load libraries\n",
    "from sklearn.datasets import load_iris\n",
    "import numpy as np\n",
    "import pandas as pd\n",
    "import sys\n",
    "import random "
   ]
  },
  {
   "cell_type": "code",
   "execution_count": 2,
   "id": "85cebfd2",
   "metadata": {
    "scrolled": true
   },
   "outputs": [
    {
     "data": {
      "text/html": [
       "<div>\n",
       "<style scoped>\n",
       "    .dataframe tbody tr th:only-of-type {\n",
       "        vertical-align: middle;\n",
       "    }\n",
       "\n",
       "    .dataframe tbody tr th {\n",
       "        vertical-align: top;\n",
       "    }\n",
       "\n",
       "    .dataframe thead th {\n",
       "        text-align: right;\n",
       "    }\n",
       "</style>\n",
       "<table border=\"1\" class=\"dataframe\">\n",
       "  <thead>\n",
       "    <tr style=\"text-align: right;\">\n",
       "      <th></th>\n",
       "      <th>sepal length (cm)</th>\n",
       "      <th>sepal width (cm)</th>\n",
       "      <th>petal length (cm)</th>\n",
       "      <th>petal width (cm)</th>\n",
       "      <th>species</th>\n",
       "    </tr>\n",
       "  </thead>\n",
       "  <tbody>\n",
       "    <tr>\n",
       "      <th>0</th>\n",
       "      <td>5.1</td>\n",
       "      <td>3.5</td>\n",
       "      <td>1.4</td>\n",
       "      <td>0.2</td>\n",
       "      <td>0</td>\n",
       "    </tr>\n",
       "    <tr>\n",
       "      <th>1</th>\n",
       "      <td>4.9</td>\n",
       "      <td>3.0</td>\n",
       "      <td>1.4</td>\n",
       "      <td>0.2</td>\n",
       "      <td>0</td>\n",
       "    </tr>\n",
       "    <tr>\n",
       "      <th>2</th>\n",
       "      <td>4.7</td>\n",
       "      <td>3.2</td>\n",
       "      <td>1.3</td>\n",
       "      <td>0.2</td>\n",
       "      <td>0</td>\n",
       "    </tr>\n",
       "    <tr>\n",
       "      <th>3</th>\n",
       "      <td>4.6</td>\n",
       "      <td>3.1</td>\n",
       "      <td>1.5</td>\n",
       "      <td>0.2</td>\n",
       "      <td>0</td>\n",
       "    </tr>\n",
       "    <tr>\n",
       "      <th>4</th>\n",
       "      <td>5.0</td>\n",
       "      <td>3.6</td>\n",
       "      <td>1.4</td>\n",
       "      <td>0.2</td>\n",
       "      <td>0</td>\n",
       "    </tr>\n",
       "  </tbody>\n",
       "</table>\n",
       "</div>"
      ],
      "text/plain": [
       "   sepal length (cm)  sepal width (cm)  petal length (cm)  petal width (cm)  \\\n",
       "0                5.1               3.5                1.4               0.2   \n",
       "1                4.9               3.0                1.4               0.2   \n",
       "2                4.7               3.2                1.3               0.2   \n",
       "3                4.6               3.1                1.5               0.2   \n",
       "4                5.0               3.6                1.4               0.2   \n",
       "\n",
       "   species  \n",
       "0        0  \n",
       "1        0  \n",
       "2        0  \n",
       "3        0  \n",
       "4        0  "
      ]
     },
     "execution_count": 2,
     "metadata": {},
     "output_type": "execute_result"
    }
   ],
   "source": [
    "# Load the test data\n",
    "iris = load_iris()\n",
    "# Create a pandas dataframe\n",
    "iris_df = pd.DataFrame(data=iris.data, columns=iris.feature_names)\n",
    "iris_df['species'] = iris.target\n",
    "iris_df.head()"
   ]
  },
  {
   "cell_type": "code",
   "execution_count": 3,
   "id": "a22429e6",
   "metadata": {
    "scrolled": true
   },
   "outputs": [
    {
     "data": {
      "text/plain": [
       "array([[5.1, 3.5, 1.4, 0.2, 0. ],\n",
       "       [4.9, 3. , 1.4, 0.2, 0. ],\n",
       "       [4.7, 3.2, 1.3, 0.2, 0. ],\n",
       "       [4.6, 3.1, 1.5, 0.2, 0. ],\n",
       "       [5. , 3.6, 1.4, 0.2, 0. ],\n",
       "       [5.4, 3.9, 1.7, 0.4, 0. ],\n",
       "       [4.6, 3.4, 1.4, 0.3, 0. ],\n",
       "       [5. , 3.4, 1.5, 0.2, 0. ],\n",
       "       [4.4, 2.9, 1.4, 0.2, 0. ],\n",
       "       [4.9, 3.1, 1.5, 0.1, 0. ],\n",
       "       [5.4, 3.7, 1.5, 0.2, 0. ],\n",
       "       [4.8, 3.4, 1.6, 0.2, 0. ],\n",
       "       [4.8, 3. , 1.4, 0.1, 0. ],\n",
       "       [4.3, 3. , 1.1, 0.1, 0. ],\n",
       "       [5.8, 4. , 1.2, 0.2, 0. ],\n",
       "       [5.7, 4.4, 1.5, 0.4, 0. ],\n",
       "       [5.4, 3.9, 1.3, 0.4, 0. ],\n",
       "       [5.1, 3.5, 1.4, 0.3, 0. ],\n",
       "       [5.7, 3.8, 1.7, 0.3, 0. ],\n",
       "       [5.1, 3.8, 1.5, 0.3, 0. ],\n",
       "       [5.4, 3.4, 1.7, 0.2, 0. ],\n",
       "       [5.1, 3.7, 1.5, 0.4, 0. ],\n",
       "       [4.6, 3.6, 1. , 0.2, 0. ],\n",
       "       [5.1, 3.3, 1.7, 0.5, 0. ],\n",
       "       [4.8, 3.4, 1.9, 0.2, 0. ],\n",
       "       [5. , 3. , 1.6, 0.2, 0. ],\n",
       "       [5. , 3.4, 1.6, 0.4, 0. ],\n",
       "       [5.2, 3.5, 1.5, 0.2, 0. ],\n",
       "       [5.2, 3.4, 1.4, 0.2, 0. ],\n",
       "       [4.7, 3.2, 1.6, 0.2, 0. ],\n",
       "       [4.8, 3.1, 1.6, 0.2, 0. ],\n",
       "       [5.4, 3.4, 1.5, 0.4, 0. ],\n",
       "       [5.2, 4.1, 1.5, 0.1, 0. ],\n",
       "       [5.5, 4.2, 1.4, 0.2, 0. ],\n",
       "       [4.9, 3.1, 1.5, 0.2, 0. ],\n",
       "       [5. , 3.2, 1.2, 0.2, 0. ],\n",
       "       [5.5, 3.5, 1.3, 0.2, 0. ],\n",
       "       [4.9, 3.6, 1.4, 0.1, 0. ],\n",
       "       [4.4, 3. , 1.3, 0.2, 0. ],\n",
       "       [5.1, 3.4, 1.5, 0.2, 0. ],\n",
       "       [5. , 3.5, 1.3, 0.3, 0. ],\n",
       "       [4.5, 2.3, 1.3, 0.3, 0. ],\n",
       "       [4.4, 3.2, 1.3, 0.2, 0. ],\n",
       "       [5. , 3.5, 1.6, 0.6, 0. ],\n",
       "       [5.1, 3.8, 1.9, 0.4, 0. ],\n",
       "       [4.8, 3. , 1.4, 0.3, 0. ],\n",
       "       [5.1, 3.8, 1.6, 0.2, 0. ],\n",
       "       [4.6, 3.2, 1.4, 0.2, 0. ],\n",
       "       [5.3, 3.7, 1.5, 0.2, 0. ],\n",
       "       [5. , 3.3, 1.4, 0.2, 0. ],\n",
       "       [7. , 3.2, 4.7, 1.4, 1. ],\n",
       "       [6.4, 3.2, 4.5, 1.5, 1. ],\n",
       "       [6.9, 3.1, 4.9, 1.5, 1. ],\n",
       "       [5.5, 2.3, 4. , 1.3, 1. ],\n",
       "       [6.5, 2.8, 4.6, 1.5, 1. ],\n",
       "       [5.7, 2.8, 4.5, 1.3, 1. ],\n",
       "       [6.3, 3.3, 4.7, 1.6, 1. ],\n",
       "       [4.9, 2.4, 3.3, 1. , 1. ],\n",
       "       [6.6, 2.9, 4.6, 1.3, 1. ],\n",
       "       [5.2, 2.7, 3.9, 1.4, 1. ],\n",
       "       [5. , 2. , 3.5, 1. , 1. ],\n",
       "       [5.9, 3. , 4.2, 1.5, 1. ],\n",
       "       [6. , 2.2, 4. , 1. , 1. ],\n",
       "       [6.1, 2.9, 4.7, 1.4, 1. ],\n",
       "       [5.6, 2.9, 3.6, 1.3, 1. ],\n",
       "       [6.7, 3.1, 4.4, 1.4, 1. ],\n",
       "       [5.6, 3. , 4.5, 1.5, 1. ],\n",
       "       [5.8, 2.7, 4.1, 1. , 1. ],\n",
       "       [6.2, 2.2, 4.5, 1.5, 1. ],\n",
       "       [5.6, 2.5, 3.9, 1.1, 1. ],\n",
       "       [5.9, 3.2, 4.8, 1.8, 1. ],\n",
       "       [6.1, 2.8, 4. , 1.3, 1. ],\n",
       "       [6.3, 2.5, 4.9, 1.5, 1. ],\n",
       "       [6.1, 2.8, 4.7, 1.2, 1. ],\n",
       "       [6.4, 2.9, 4.3, 1.3, 1. ],\n",
       "       [6.6, 3. , 4.4, 1.4, 1. ],\n",
       "       [6.8, 2.8, 4.8, 1.4, 1. ],\n",
       "       [6.7, 3. , 5. , 1.7, 1. ],\n",
       "       [6. , 2.9, 4.5, 1.5, 1. ],\n",
       "       [5.7, 2.6, 3.5, 1. , 1. ],\n",
       "       [5.5, 2.4, 3.8, 1.1, 1. ],\n",
       "       [5.5, 2.4, 3.7, 1. , 1. ],\n",
       "       [5.8, 2.7, 3.9, 1.2, 1. ],\n",
       "       [6. , 2.7, 5.1, 1.6, 1. ],\n",
       "       [5.4, 3. , 4.5, 1.5, 1. ],\n",
       "       [6. , 3.4, 4.5, 1.6, 1. ],\n",
       "       [6.7, 3.1, 4.7, 1.5, 1. ],\n",
       "       [6.3, 2.3, 4.4, 1.3, 1. ],\n",
       "       [5.6, 3. , 4.1, 1.3, 1. ],\n",
       "       [5.5, 2.5, 4. , 1.3, 1. ],\n",
       "       [5.5, 2.6, 4.4, 1.2, 1. ],\n",
       "       [6.1, 3. , 4.6, 1.4, 1. ],\n",
       "       [5.8, 2.6, 4. , 1.2, 1. ],\n",
       "       [5. , 2.3, 3.3, 1. , 1. ],\n",
       "       [5.6, 2.7, 4.2, 1.3, 1. ],\n",
       "       [5.7, 3. , 4.2, 1.2, 1. ],\n",
       "       [5.7, 2.9, 4.2, 1.3, 1. ],\n",
       "       [6.2, 2.9, 4.3, 1.3, 1. ],\n",
       "       [5.1, 2.5, 3. , 1.1, 1. ],\n",
       "       [5.7, 2.8, 4.1, 1.3, 1. ],\n",
       "       [6.3, 3.3, 6. , 2.5, 2. ],\n",
       "       [5.8, 2.7, 5.1, 1.9, 2. ],\n",
       "       [7.1, 3. , 5.9, 2.1, 2. ],\n",
       "       [6.3, 2.9, 5.6, 1.8, 2. ],\n",
       "       [6.5, 3. , 5.8, 2.2, 2. ],\n",
       "       [7.6, 3. , 6.6, 2.1, 2. ],\n",
       "       [4.9, 2.5, 4.5, 1.7, 2. ],\n",
       "       [7.3, 2.9, 6.3, 1.8, 2. ],\n",
       "       [6.7, 2.5, 5.8, 1.8, 2. ],\n",
       "       [7.2, 3.6, 6.1, 2.5, 2. ],\n",
       "       [6.5, 3.2, 5.1, 2. , 2. ],\n",
       "       [6.4, 2.7, 5.3, 1.9, 2. ],\n",
       "       [6.8, 3. , 5.5, 2.1, 2. ],\n",
       "       [5.7, 2.5, 5. , 2. , 2. ],\n",
       "       [5.8, 2.8, 5.1, 2.4, 2. ],\n",
       "       [6.4, 3.2, 5.3, 2.3, 2. ],\n",
       "       [6.5, 3. , 5.5, 1.8, 2. ],\n",
       "       [7.7, 3.8, 6.7, 2.2, 2. ],\n",
       "       [7.7, 2.6, 6.9, 2.3, 2. ],\n",
       "       [6. , 2.2, 5. , 1.5, 2. ],\n",
       "       [6.9, 3.2, 5.7, 2.3, 2. ],\n",
       "       [5.6, 2.8, 4.9, 2. , 2. ],\n",
       "       [7.7, 2.8, 6.7, 2. , 2. ],\n",
       "       [6.3, 2.7, 4.9, 1.8, 2. ],\n",
       "       [6.7, 3.3, 5.7, 2.1, 2. ],\n",
       "       [7.2, 3.2, 6. , 1.8, 2. ],\n",
       "       [6.2, 2.8, 4.8, 1.8, 2. ],\n",
       "       [6.1, 3. , 4.9, 1.8, 2. ],\n",
       "       [6.4, 2.8, 5.6, 2.1, 2. ],\n",
       "       [7.2, 3. , 5.8, 1.6, 2. ],\n",
       "       [7.4, 2.8, 6.1, 1.9, 2. ],\n",
       "       [7.9, 3.8, 6.4, 2. , 2. ],\n",
       "       [6.4, 2.8, 5.6, 2.2, 2. ],\n",
       "       [6.3, 2.8, 5.1, 1.5, 2. ],\n",
       "       [6.1, 2.6, 5.6, 1.4, 2. ],\n",
       "       [7.7, 3. , 6.1, 2.3, 2. ],\n",
       "       [6.3, 3.4, 5.6, 2.4, 2. ],\n",
       "       [6.4, 3.1, 5.5, 1.8, 2. ],\n",
       "       [6. , 3. , 4.8, 1.8, 2. ],\n",
       "       [6.9, 3.1, 5.4, 2.1, 2. ],\n",
       "       [6.7, 3.1, 5.6, 2.4, 2. ],\n",
       "       [6.9, 3.1, 5.1, 2.3, 2. ],\n",
       "       [5.8, 2.7, 5.1, 1.9, 2. ],\n",
       "       [6.8, 3.2, 5.9, 2.3, 2. ],\n",
       "       [6.7, 3.3, 5.7, 2.5, 2. ],\n",
       "       [6.7, 3. , 5.2, 2.3, 2. ],\n",
       "       [6.3, 2.5, 5. , 1.9, 2. ],\n",
       "       [6.5, 3. , 5.2, 2. , 2. ],\n",
       "       [6.2, 3.4, 5.4, 2.3, 2. ],\n",
       "       [5.9, 3. , 5.1, 1.8, 2. ]])"
      ]
     },
     "execution_count": 3,
     "metadata": {},
     "output_type": "execute_result"
    }
   ],
   "source": [
    "# extract a matriz from the df\n",
    "iris_matrix = iris_df.values\n",
    "iris_matrix"
   ]
  },
  {
   "cell_type": "markdown",
   "id": "e07fee99",
   "metadata": {},
   "source": [
    "# Common functions"
   ]
  },
  {
   "cell_type": "markdown",
   "id": "585eb85c",
   "metadata": {},
   "source": [
    "## Function to calculate Euclidean Distance"
   ]
  },
  {
   "cell_type": "code",
   "execution_count": 4,
   "id": "a5380f39",
   "metadata": {},
   "outputs": [],
   "source": [
    "def calculate_euclidean_distance(np_array1, np_array2):\n",
    "    \"\"\"\n",
    "    Args:\n",
    "        np_array1 (np.ndarray): 1-dimensional array with n elements \n",
    "        np_array2 (np.ndarray): 1-dimensional array with n elements \n",
    "    \"\"\"\n",
    "    # Calculate: 𝑑 = sqrt((𝑋1 −𝑌1)^2+ (𝑋2 − 𝑌2)^2+ ...  + (𝑋𝑛 − 𝑌𝑛)^2)\n",
    "    return np.sqrt(np.sum((np_array1 - np_array2) ** 2))"
   ]
  },
  {
   "cell_type": "markdown",
   "id": "abc0ff91",
   "metadata": {},
   "source": [
    "## Function to assign an entry to a cluster"
   ]
  },
  {
   "cell_type": "code",
   "execution_count": 5,
   "id": "0c40d316",
   "metadata": {},
   "outputs": [],
   "source": [
    "def assign_to_cluster(entry, centroids):\n",
    "    \"\"\"\n",
    "    Args:\n",
    "        entry (np.ndarray): the entry to be assigned. It is a 1-dimensional array with n elements.\n",
    "        centroids (List[np.ndarray]): a list containing the centroids of each cluster. Each centroid is a 1-dimensional NumPy array with n elements. \n",
    "    \"\"\"\n",
    "    # this variable is used to retorn the cluster \n",
    "    cluster = -1\n",
    "    # assign to min_distance the larger float\n",
    "    min_distance = sys.float_info.max\n",
    "    num_clusters = len(centroids)\n",
    "    for i in range(num_clusters):\n",
    "        # calculate euclidian distance \n",
    "        current_distance = calculate_euclidean_distance(entry, centroids[i])\n",
    "        if current_distance < min_distance:\n",
    "            min_distance = current_distance\n",
    "            cluster = i\n",
    "    # return the cluster to which the entry belongs and the euclidean distance.\n",
    "    return cluster, min_distance"
   ]
  },
  {
   "cell_type": "markdown",
   "id": "f3ac5ced",
   "metadata": {},
   "source": [
    "## Function to assign all entries to clusters (get clusters)"
   ]
  },
  {
   "cell_type": "code",
   "execution_count": 6,
   "id": "0973e0c2",
   "metadata": {},
   "outputs": [],
   "source": [
    "def get_clusters(matrix, centroids):\n",
    "    \"\"\"\n",
    "    Args: \n",
    "        matrix (np.ndarray): an mxn matrix obtained from the pandas dataframe.\n",
    "        centroids (List[np.ndarray]): a list containing the centroids of each cluster. Each centroid is a 1-dimensional NumPy array with n elements. \n",
    "    \"\"\"\n",
    "    # declare a list of lists, each inner list represents a different cluster\n",
    "    clusters = [[] for _ in range(len(centroids))]\n",
    "    # iterate over the rows\n",
    "    for i in range(matrix.shape[0]):\n",
    "        # get the cluster to which the entry belongs.\n",
    "        cluster_assigned, _ = assign_to_cluster(matrix[i, :], centroids)\n",
    "        clusters[cluster_assigned].append(i)\n",
    "    return clusters"
   ]
  },
  {
   "cell_type": "markdown",
   "id": "08a52868",
   "metadata": {},
   "source": [
    "## Function to initialize centroids with random numbers "
   ]
  },
  {
   "cell_type": "code",
   "execution_count": 7,
   "id": "d4ee8034",
   "metadata": {},
   "outputs": [],
   "source": [
    "def init_centroids_random(matrix, centroids): \n",
    "    \"\"\"\n",
    "    Args: \n",
    "        matrix (np.ndarray): an mxn matrix obtained from the pandas dataframe.\n",
    "        centroids (List[np.ndarray]): a list containing the centroids of each cluster. Each centroid is a 1-dimensional NumPy array with n elements. \n",
    "    \"\"\"\n",
    "    dimensions = matrix.shape[1] # number of columns\n",
    "    centroids_count = len(centroids)\n",
    "    # Iterate through column\n",
    "    for i in range(dimensions):\n",
    "        # get the range of column values \n",
    "        min_value = np.min(matrix[:, i])\n",
    "        max_value = np.max(matrix[:, i])\n",
    "        # Iterate through centroids\n",
    "        for j in range(centroids_count):\n",
    "            # generate a random number within the range. \n",
    "            centroids[j][i] = np.random.uniform(min_value, max_value)\n",
    "    return centroids"
   ]
  },
  {
   "cell_type": "markdown",
   "id": "afeabe56",
   "metadata": {},
   "source": [
    "# K-means algorithm"
   ]
  },
  {
   "cell_type": "code",
   "execution_count": 8,
   "id": "adc962a2",
   "metadata": {},
   "outputs": [],
   "source": [
    "def recalculate_centroids(matrix, clusters):\n",
    "    \"\"\"\n",
    "    Args: \n",
    "        matrix (np.ndarray): an mxn matrix obtained from the pandas dataframe.\n",
    "        clusters (List[List[]]): a list containing lists representing clusters. \n",
    "            Each inner list contains the index of each entry that belongs to the cluster.\n",
    "    \"\"\"\n",
    "    #dimentions = matrix.shape[1]\n",
    "    n_clusters = len(clusters)\n",
    "    # declare a list that represent centroids\n",
    "    centroids = [None] * n_clusters\n",
    "    for i in range(n_clusters):\n",
    "        if len(clusters[i]) > 0:\n",
    "            # get the new centroids calculating the mean across dimensions\n",
    "            centroids[i] = np.mean(matrix[clusters[i]], axis=0)\n",
    "        else: \n",
    "            # when the cluster do not have entries, we generate random values again\n",
    "            centroids[i] = []\n",
    "            for j in range(matrix.shape[1]):\n",
    "                centroids[i].append(np.random.uniform(np.min(matrix[:, j]), np.max(matrix[:, j])))\n",
    "    return centroids"
   ]
  },
  {
   "cell_type": "code",
   "execution_count": 9,
   "id": "550492fb",
   "metadata": {},
   "outputs": [],
   "source": [
    "def k_means(matrix, k):\n",
    "    \"\"\"\n",
    "    Args: \n",
    "        matrix (np.ndarray): an mxn matrix obtained from the pandas dataframe.\n",
    "        k (int): the number of cluster\n",
    "    \"\"\"\n",
    "    # get the number of columns in the matrix\n",
    "    n = matrix.shape[1]\n",
    "    # declare a list containing np.arrays that represent centroids\n",
    "    centroids = [np.zeros(n) for _ in range(k)]\n",
    "    # (1) Initialize centroids with random number\n",
    "    init_centroids_random(matrix, centroids)\n",
    "    # repit while the centroids values do not converge\n",
    "    converged = False\n",
    "    while not converged:\n",
    "        # (2) Assign entries to centroids\n",
    "        clusters = get_clusters(matrix, centroids)\n",
    "        # (3) Recalculate centroid values\n",
    "        updated_centroids = recalculate_centroids(matrix, clusters)\n",
    "        if np.array_equal(centroids, updated_centroids):\n",
    "            converged = True\n",
    "        else:\n",
    "            centroids = updated_centroids\n",
    "    return clusters, centroids"
   ]
  },
  {
   "cell_type": "markdown",
   "id": "5a2f0eb3",
   "metadata": {},
   "source": [
    "# Genetic algorithm"
   ]
  },
  {
   "cell_type": "code",
   "execution_count": 10,
   "id": "62ad1662",
   "metadata": {},
   "outputs": [],
   "source": [
    "def calculate_fitness(matrix, clusters_per_chromosome, chromosome_population):\n",
    "    \"\"\"\n",
    "    Args: \n",
    "        matrix (np.ndarray): an mxn matrix obtained from the pandas dataframe.\n",
    "        clusters_per_chromosome (list[list[list[]]]): contains the entry index per cluster and per chromosome.\n",
    "        chromosome_population (list[list[np.ndarray]]):  contains the centroids of each cluster per chromosome.\n",
    "    \"\"\"\n",
    "    n_chromosomes = len(chromosome_population)\n",
    "    n_clusters = len(clusters_per_chromosome[1])\n",
    "    fitness_per_chromosome = np.zeros(n_chromosomes)\n",
    "    # Fitness is computed as the sum of the euclidean distance between each entry and the centroid \n",
    "    # of the cluster to which it that belongs.\n",
    "    for i in range(n_chromosomes):\n",
    "        distance_sum = 0\n",
    "        for j in range(n_clusters):\n",
    "            for k in range(len(clusters_per_chromosome[i][j])):\n",
    "                distance_sum += calculate_euclidean_distance(\n",
    "                    matrix[clusters_per_chromosome[i][j][k]], chromosome_population[i][j])\n",
    "        #print(distance_sum)\n",
    "        if distance_sum != 0:\n",
    "            fitness_per_chromosome[i] = 1 / distance_sum\n",
    "    return fitness_per_chromosome"
   ]
  },
  {
   "cell_type": "code",
   "execution_count": 11,
   "id": "893008e8",
   "metadata": {},
   "outputs": [],
   "source": [
    "def roulette_wheel_selection(fitness_per_chromosome, chromosome_population):\n",
    "    \"\"\"\n",
    "    Args:\n",
    "        fitness_per_chromosome (np.ndarray): 1-dimensional array with the fitness values.\n",
    "        chromosome_population (list[list[np.ndarray]]):  contains the centroids of each cluster per chromosome.\n",
    "    \"\"\"\n",
    "    n_chromosome = len(fitness_per_chromosome)\n",
    "    selected_chr = [None] * n_chromosome\n",
    "    fitness_sum = np.sum(fitness_per_chromosome)\n",
    "    # select the chromosomes:\n",
    "    for i in range(n_chromosome):\n",
    "        random_value =  np.random.uniform(0, fitness_sum)\n",
    "        wheel = 0\n",
    "        for j in range(n_chromosome):\n",
    "            wheel += fitness_per_chromosome[j]\n",
    "            if wheel >= random_value:\n",
    "                selected_chr[i] = j\n",
    "                break\n",
    "    # update the centroids values:\n",
    "    # declare a list of lists containing np.arrays that represent centroids\n",
    "    new_chr_population = [None] * n_chromosome\n",
    "    for i in range(n_chromosome):\n",
    "        new_chr_population[i] = chromosome_population[selected_chr[i]]\n",
    "    return new_chr_population"
   ]
  },
  {
   "cell_type": "code",
   "execution_count": 85,
   "id": "2e0b5b8f",
   "metadata": {},
   "outputs": [],
   "source": [
    "def crossover(chr_population, crossover_prob):\n",
    "    \"\"\"\n",
    "    Args:\n",
    "        chr_population (list[list[np.ndarray]]):  contains the centroids of each cluster per chromosome.\n",
    "        crossover_prob (float): a value between 0 and 1 that represents the probability that a pair of adjacent \n",
    "            chromosomes exchange information.\n",
    "    \"\"\"\n",
    "    for i in range(0, len(chr_population) - 1, 2):\n",
    "        random =  np.random.uniform(0, 1)\n",
    "        if random <= crossover_prob:\n",
    "            # crossover\n",
    "            chr_crossover_point = np.random.randint(1, len(chr_population[i]))\n",
    "            centroid_crossover_point =  np.random.randint(1, len(chr_population[i][0]))\n",
    "            # first make the exchange at chromosome level, then at centroid level\n",
    "            chr1 = chr_population[i][:chr_crossover_point] + chr_population[i+1][chr_crossover_point:]\n",
    "            chr2 = chr_population[i+1][:chr_crossover_point] + chr_population[i][chr_crossover_point:]\n",
    "            # break the centroid at the crossover point\n",
    "            parent_centroid1 = chr_population[i][chr_crossover_point]\n",
    "            parent_centroid2 = chr_population[i+1][chr_crossover_point]\n",
    "            centroid1 = np.concatenate((parent_centroid1[:centroid_crossover_point], parent_centroid2[centroid_crossover_point:]))\n",
    "            centroid2 = np.concatenate((parent_centroid2[:centroid_crossover_point], parent_centroid1[centroid_crossover_point:]))\n",
    "            # assign the new centroids to the chrs\n",
    "            chr1[chr_crossover_point] = centroid1\n",
    "            chr2[chr_crossover_point] = centroid2\n",
    "            # substitute parent chromosomes with new ones\n",
    "            chr_population[i] = chr1\n",
    "            chr_population[i+1] = chr2\n",
    "            #print(chr1)\n",
    "            #print(chr2)"
   ]
  },
  {
   "cell_type": "code",
   "execution_count": 86,
   "id": "50526afd",
   "metadata": {},
   "outputs": [],
   "source": [
    "def genetic_clustering(matrix, k, population_size, crossover_prob, mutation_prob):\n",
    "    # get the number of dimensions / columns in the matrix\n",
    "    dimensions = matrix.shape[1]\n",
    "    # declare a list of lists containing np.arrays that represent centroids\n",
    "    chr_population = [[np.zeros(dimensions) for _ in range(k)] for _ in range(population_size)]\n",
    "    # (1) initialize each centroids of the population ramdomly\n",
    "    for i in range(population_size):\n",
    "        init_centroids_random(matrix, chr_population[i])\n",
    "    #print(chr_population)\n",
    "    \n",
    "    # while ...\n",
    "    clusters_per_chromosome = [None] * population_size\n",
    "    #centroids_per_population = [None] * population_size\n",
    "    \n",
    "    for i in range (population_size):\n",
    "        # (2) Assign entries to cluster in each population\n",
    "        clusters_per_chromosome[i] = get_clusters(matrix, chr_population[i])\n",
    "        # (3) Recalculate centroids values, according to:\n",
    "        #    Maulik, U., & Bandyopadhyay, S. (2000). Genetic algorithm-based clustering\n",
    "        #    technique. Pattern recognition, 33(9), 1455-1465.\n",
    "        chr_population[i] =  recalculate_centroids(matrix, clusters_per_chromosome[i])\n",
    "    # (4) calculate the fitness of each chromosome\n",
    "    # get the fitness in a numpy array\n",
    "    fitness_per_chromosome = calculate_fitness(matrix, clusters_per_chromosome, chr_population)\n",
    "    # (5) Select chromosomes using `Roulette wheel selection`, according to:\n",
    "    #    Maulik, U., & Bandyopadhyay, S. (2000). Genetic algorithm-based clustering\n",
    "    #    technique. Pattern recognition, 33(9), 1455-1465.\n",
    "    chr_population = roulette_wheel_selection(fitness_per_chromosome, chr_population)\n",
    "    print(chr_population)\n",
    "    # (6) \"crossover\" the chromosomes\n",
    "    crossover(chr_population, crossover_prob)\n",
    "    print('\\n')\n",
    "    print(chr_population)\n",
    "    # (7) \"mutate\" the chromosomes\n",
    "    \n",
    "    \n",
    "        \n",
    "    #print(clusters_per_chromosome)\n",
    "    #print(fitness_per_chromosome)\n",
    "    #print(chr_population)\n",
    "    \n",
    "       "
   ]
  },
  {
   "cell_type": "code",
   "execution_count": 90,
   "id": "d0a040b0",
   "metadata": {
    "scrolled": false
   },
   "outputs": [
    {
     "name": "stdout",
     "output_type": "stream",
     "text": [
      "[[array([5.89767442, 2.66976744, 4.58837209, 1.51627907, 1.34883721]), array([5.03684211, 3.30701754, 1.70175439, 0.34561404, 0.12280702]), array([6.716, 3.106, 5.388, 1.9  , 1.7  ])], [array([6.79777778, 3.06444444, 5.59777778, 1.98222222, 1.84444444]), array([5.82363636, 2.71454545, 4.34      , 1.42545455, 1.21818182]), array([5.006, 3.428, 1.462, 0.246, 0.   ])], [array([6.4297619 , 2.94166667, 5.09047619, 1.73690476, 1.54761905]), array([5.02678571, 3.31428571, 1.66785714, 0.32857143, 0.10714286]), array([5.49, 2.59, 4.27, 1.56, 1.4 ])], [array([6.79777778, 3.06444444, 5.59777778, 1.98222222, 1.84444444]), array([5.82363636, 2.71454545, 4.34      , 1.42545455, 1.21818182]), array([5.006, 3.428, 1.462, 0.246, 0.   ])], [array([6.79777778, 3.06444444, 5.59777778, 1.98222222, 1.84444444]), array([5.82363636, 2.71454545, 4.34      , 1.42545455, 1.21818182]), array([5.006, 3.428, 1.462, 0.246, 0.   ])], [array([6.45324675, 3.0012987 , 5.12337662, 1.75584416, 1.55844156]), array([5.20645161, 3.63870968, 1.47096774, 0.27419355, 0.        ]), array([5.1952381 , 2.73095238, 2.94285714, 0.86190476, 0.71428571])], [array([5.42      , 3.12666667, 2.65555556, 0.71      , 0.44444444]), array([6.9       , 3.51428571, 5.98571429, 2.34285714, 2.        ]), array([6.42264151, 2.87924528, 5.33584906, 1.87924528, 1.81132075])], [array([6.4297619 , 2.94166667, 5.09047619, 1.73690476, 1.54761905]), array([5.02678571, 3.31428571, 1.66785714, 0.32857143, 0.10714286]), array([5.49, 2.59, 4.27, 1.56, 1.4 ])], [array([6.4297619 , 2.94166667, 5.09047619, 1.73690476, 1.54761905]), array([5.02678571, 3.31428571, 1.66785714, 0.32857143, 0.10714286]), array([5.49, 2.59, 4.27, 1.56, 1.4 ])], [array([6.45324675, 3.0012987 , 5.12337662, 1.75584416, 1.55844156]), array([5.20645161, 3.63870968, 1.47096774, 0.27419355, 0.        ]), array([5.1952381 , 2.73095238, 2.94285714, 0.86190476, 0.71428571])]]\n",
      "\n",
      "\n",
      "[[array([5.89767442, 2.66976744, 4.58837209, 1.51627907, 1.34883721]), array([5.03684211, 3.30701754, 1.70175439, 0.34561404, 0.12280702]), array([6.716, 3.106, 5.388, 0.246, 0.   ])], [array([6.79777778, 3.06444444, 5.59777778, 1.98222222, 1.84444444]), array([5.82363636, 2.71454545, 4.34      , 1.42545455, 1.21818182]), array([5.006, 3.428, 1.462, 1.9  , 1.7  ])], [array([6.4297619 , 2.94166667, 5.09047619, 1.73690476, 1.54761905]), array([5.02678571, 3.31428571, 1.66785714, 0.32857143, 1.21818182]), array([5.006, 3.428, 1.462, 0.246, 0.   ])], [array([6.79777778, 3.06444444, 5.59777778, 1.98222222, 1.84444444]), array([5.82363636, 2.71454545, 4.34      , 1.42545455, 0.10714286]), array([5.49, 2.59, 4.27, 1.56, 1.4 ])], [array([6.79777778, 3.06444444, 5.59777778, 1.98222222, 1.84444444]), array([5.82363636, 2.71454545, 4.34      , 1.42545455, 1.21818182]), array([5.006     , 3.428     , 2.94285714, 0.86190476, 0.71428571])], [array([6.45324675, 3.0012987 , 5.12337662, 1.75584416, 1.55844156]), array([5.20645161, 3.63870968, 1.47096774, 0.27419355, 0.        ]), array([5.1952381 , 2.73095238, 1.462     , 0.246     , 0.        ])], [array([5.42      , 3.12666667, 2.65555556, 0.71      , 0.44444444]), array([6.9       , 3.51428571, 1.66785714, 0.32857143, 0.10714286]), array([5.49, 2.59, 4.27, 1.56, 1.4 ])], [array([6.4297619 , 2.94166667, 5.09047619, 1.73690476, 1.54761905]), array([5.02678571, 3.31428571, 5.98571429, 2.34285714, 2.        ]), array([6.42264151, 2.87924528, 5.33584906, 1.87924528, 1.81132075])], [array([6.4297619 , 2.94166667, 5.09047619, 1.73690476, 1.54761905]), array([5.02678571, 3.31428571, 1.66785714, 0.32857143, 0.        ]), array([5.1952381 , 2.73095238, 2.94285714, 0.86190476, 0.71428571])], [array([6.45324675, 3.0012987 , 5.12337662, 1.75584416, 1.55844156]), array([5.20645161, 3.63870968, 1.47096774, 0.27419355, 0.10714286]), array([5.49, 2.59, 4.27, 1.56, 1.4 ])]]\n"
     ]
    }
   ],
   "source": [
    "genetic_clustering(iris_matrix, 3, 10, 1, 0.1)"
   ]
  },
  {
   "cell_type": "code",
   "execution_count": null,
   "id": "6233c188",
   "metadata": {},
   "outputs": [],
   "source": []
  },
  {
   "cell_type": "markdown",
   "id": "050ccfc6",
   "metadata": {},
   "source": [
    "# Brute force algorithm"
   ]
  },
  {
   "cell_type": "code",
   "execution_count": null,
   "id": "68e5c3d6",
   "metadata": {},
   "outputs": [],
   "source": [
    "# code"
   ]
  },
  {
   "cell_type": "markdown",
   "id": "cceb5b1b",
   "metadata": {},
   "source": [
    "# Tests"
   ]
  },
  {
   "cell_type": "code",
   "execution_count": null,
   "id": "f56e2e0e",
   "metadata": {
    "scrolled": true
   },
   "outputs": [],
   "source": [
    "clusters, _ = k_means(iris_matrix, 32)\n",
    "print(clusters)"
   ]
  },
  {
   "cell_type": "code",
   "execution_count": null,
   "id": "da2d0684",
   "metadata": {
    "scrolled": false
   },
   "outputs": [],
   "source": [
    "clusters, _ = k_means(iris_matrix, 4)\n",
    "print(clusters)"
   ]
  },
  {
   "cell_type": "code",
   "execution_count": null,
   "id": "c9ec6f06",
   "metadata": {
    "scrolled": true
   },
   "outputs": [],
   "source": [
    "clusters, _ = k_means(iris_matrix, 3)\n",
    "print(clusters)"
   ]
  },
  {
   "cell_type": "code",
   "execution_count": null,
   "id": "652bd1b4",
   "metadata": {},
   "outputs": [],
   "source": [
    "padre1 = np.array([1, 2, 3, 10])\n",
    "#padre1[2:]\n",
    "(padre1[:2] + padre1[:2])"
   ]
  },
  {
   "cell_type": "code",
   "execution_count": 83,
   "id": "d31b3d17",
   "metadata": {},
   "outputs": [
    {
     "data": {
      "text/plain": [
       "1"
      ]
     },
     "execution_count": 83,
     "metadata": {},
     "output_type": "execute_result"
    }
   ],
   "source": [
    "np.random.randint(1,3)"
   ]
  }
 ],
 "metadata": {
  "kernelspec": {
   "display_name": "Python 3 (ipykernel)",
   "language": "python",
   "name": "python3"
  },
  "language_info": {
   "codemirror_mode": {
    "name": "ipython",
    "version": 3
   },
   "file_extension": ".py",
   "mimetype": "text/x-python",
   "name": "python",
   "nbconvert_exporter": "python",
   "pygments_lexer": "ipython3",
   "version": "3.10.12"
  }
 },
 "nbformat": 4,
 "nbformat_minor": 5
}
