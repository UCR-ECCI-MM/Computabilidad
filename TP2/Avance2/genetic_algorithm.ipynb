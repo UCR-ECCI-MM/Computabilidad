{
 "cells": [
  {
   "cell_type": "code",
   "execution_count": 1,
   "id": "c9383747",
   "metadata": {},
   "outputs": [],
   "source": [
    "# Load libraries\n",
    "from sklearn.datasets import load_iris\n",
    "import numpy as np\n",
    "import pandas as pd\n",
    "import sys\n",
    "import random "
   ]
  },
  {
   "cell_type": "code",
   "execution_count": 109,
   "id": "85cebfd2",
   "metadata": {
    "scrolled": true
   },
   "outputs": [
    {
     "data": {
      "text/html": [
       "<div>\n",
       "<style scoped>\n",
       "    .dataframe tbody tr th:only-of-type {\n",
       "        vertical-align: middle;\n",
       "    }\n",
       "\n",
       "    .dataframe tbody tr th {\n",
       "        vertical-align: top;\n",
       "    }\n",
       "\n",
       "    .dataframe thead th {\n",
       "        text-align: right;\n",
       "    }\n",
       "</style>\n",
       "<table border=\"1\" class=\"dataframe\">\n",
       "  <thead>\n",
       "    <tr style=\"text-align: right;\">\n",
       "      <th></th>\n",
       "      <th>sepal length (cm)</th>\n",
       "      <th>sepal width (cm)</th>\n",
       "      <th>petal length (cm)</th>\n",
       "      <th>petal width (cm)</th>\n",
       "      <th>species</th>\n",
       "    </tr>\n",
       "  </thead>\n",
       "  <tbody>\n",
       "    <tr>\n",
       "      <th>0</th>\n",
       "      <td>5.1</td>\n",
       "      <td>3.5</td>\n",
       "      <td>1.4</td>\n",
       "      <td>0.2</td>\n",
       "      <td>0</td>\n",
       "    </tr>\n",
       "    <tr>\n",
       "      <th>1</th>\n",
       "      <td>4.9</td>\n",
       "      <td>3.0</td>\n",
       "      <td>1.4</td>\n",
       "      <td>0.2</td>\n",
       "      <td>0</td>\n",
       "    </tr>\n",
       "    <tr>\n",
       "      <th>2</th>\n",
       "      <td>4.7</td>\n",
       "      <td>3.2</td>\n",
       "      <td>1.3</td>\n",
       "      <td>0.2</td>\n",
       "      <td>0</td>\n",
       "    </tr>\n",
       "    <tr>\n",
       "      <th>3</th>\n",
       "      <td>4.6</td>\n",
       "      <td>3.1</td>\n",
       "      <td>1.5</td>\n",
       "      <td>0.2</td>\n",
       "      <td>0</td>\n",
       "    </tr>\n",
       "    <tr>\n",
       "      <th>4</th>\n",
       "      <td>5.0</td>\n",
       "      <td>3.6</td>\n",
       "      <td>1.4</td>\n",
       "      <td>0.2</td>\n",
       "      <td>0</td>\n",
       "    </tr>\n",
       "  </tbody>\n",
       "</table>\n",
       "</div>"
      ],
      "text/plain": [
       "   sepal length (cm)  sepal width (cm)  petal length (cm)  petal width (cm)  \\\n",
       "0                5.1               3.5                1.4               0.2   \n",
       "1                4.9               3.0                1.4               0.2   \n",
       "2                4.7               3.2                1.3               0.2   \n",
       "3                4.6               3.1                1.5               0.2   \n",
       "4                5.0               3.6                1.4               0.2   \n",
       "\n",
       "   species  \n",
       "0        0  \n",
       "1        0  \n",
       "2        0  \n",
       "3        0  \n",
       "4        0  "
      ]
     },
     "execution_count": 109,
     "metadata": {},
     "output_type": "execute_result"
    }
   ],
   "source": [
    "# Load the test data\n",
    "iris = load_iris()\n",
    "# Create a pandas dataframe\n",
    "iris_df = pd.DataFrame(data=iris.data, columns=iris.feature_names)\n",
    "iris_df['species'] = iris.target\n",
    "iris_df.head()"
   ]
  },
  {
   "cell_type": "code",
   "execution_count": 110,
   "id": "a22429e6",
   "metadata": {
    "scrolled": true
   },
   "outputs": [
    {
     "data": {
      "text/plain": [
       "array([[5.1, 3.5, 1.4, 0.2, 0. ],\n",
       "       [4.9, 3. , 1.4, 0.2, 0. ],\n",
       "       [4.7, 3.2, 1.3, 0.2, 0. ],\n",
       "       [4.6, 3.1, 1.5, 0.2, 0. ],\n",
       "       [5. , 3.6, 1.4, 0.2, 0. ],\n",
       "       [5.4, 3.9, 1.7, 0.4, 0. ],\n",
       "       [4.6, 3.4, 1.4, 0.3, 0. ],\n",
       "       [5. , 3.4, 1.5, 0.2, 0. ],\n",
       "       [4.4, 2.9, 1.4, 0.2, 0. ],\n",
       "       [4.9, 3.1, 1.5, 0.1, 0. ],\n",
       "       [5.4, 3.7, 1.5, 0.2, 0. ],\n",
       "       [4.8, 3.4, 1.6, 0.2, 0. ],\n",
       "       [4.8, 3. , 1.4, 0.1, 0. ],\n",
       "       [4.3, 3. , 1.1, 0.1, 0. ],\n",
       "       [5.8, 4. , 1.2, 0.2, 0. ],\n",
       "       [5.7, 4.4, 1.5, 0.4, 0. ],\n",
       "       [5.4, 3.9, 1.3, 0.4, 0. ],\n",
       "       [5.1, 3.5, 1.4, 0.3, 0. ],\n",
       "       [5.7, 3.8, 1.7, 0.3, 0. ],\n",
       "       [5.1, 3.8, 1.5, 0.3, 0. ],\n",
       "       [5.4, 3.4, 1.7, 0.2, 0. ],\n",
       "       [5.1, 3.7, 1.5, 0.4, 0. ],\n",
       "       [4.6, 3.6, 1. , 0.2, 0. ],\n",
       "       [5.1, 3.3, 1.7, 0.5, 0. ],\n",
       "       [4.8, 3.4, 1.9, 0.2, 0. ],\n",
       "       [5. , 3. , 1.6, 0.2, 0. ],\n",
       "       [5. , 3.4, 1.6, 0.4, 0. ],\n",
       "       [5.2, 3.5, 1.5, 0.2, 0. ],\n",
       "       [5.2, 3.4, 1.4, 0.2, 0. ],\n",
       "       [4.7, 3.2, 1.6, 0.2, 0. ],\n",
       "       [4.8, 3.1, 1.6, 0.2, 0. ],\n",
       "       [5.4, 3.4, 1.5, 0.4, 0. ],\n",
       "       [5.2, 4.1, 1.5, 0.1, 0. ],\n",
       "       [5.5, 4.2, 1.4, 0.2, 0. ],\n",
       "       [4.9, 3.1, 1.5, 0.2, 0. ],\n",
       "       [5. , 3.2, 1.2, 0.2, 0. ],\n",
       "       [5.5, 3.5, 1.3, 0.2, 0. ],\n",
       "       [4.9, 3.6, 1.4, 0.1, 0. ],\n",
       "       [4.4, 3. , 1.3, 0.2, 0. ],\n",
       "       [5.1, 3.4, 1.5, 0.2, 0. ],\n",
       "       [5. , 3.5, 1.3, 0.3, 0. ],\n",
       "       [4.5, 2.3, 1.3, 0.3, 0. ],\n",
       "       [4.4, 3.2, 1.3, 0.2, 0. ],\n",
       "       [5. , 3.5, 1.6, 0.6, 0. ],\n",
       "       [5.1, 3.8, 1.9, 0.4, 0. ],\n",
       "       [4.8, 3. , 1.4, 0.3, 0. ],\n",
       "       [5.1, 3.8, 1.6, 0.2, 0. ],\n",
       "       [4.6, 3.2, 1.4, 0.2, 0. ],\n",
       "       [5.3, 3.7, 1.5, 0.2, 0. ],\n",
       "       [5. , 3.3, 1.4, 0.2, 0. ],\n",
       "       [7. , 3.2, 4.7, 1.4, 1. ],\n",
       "       [6.4, 3.2, 4.5, 1.5, 1. ],\n",
       "       [6.9, 3.1, 4.9, 1.5, 1. ],\n",
       "       [5.5, 2.3, 4. , 1.3, 1. ],\n",
       "       [6.5, 2.8, 4.6, 1.5, 1. ],\n",
       "       [5.7, 2.8, 4.5, 1.3, 1. ],\n",
       "       [6.3, 3.3, 4.7, 1.6, 1. ],\n",
       "       [4.9, 2.4, 3.3, 1. , 1. ],\n",
       "       [6.6, 2.9, 4.6, 1.3, 1. ],\n",
       "       [5.2, 2.7, 3.9, 1.4, 1. ],\n",
       "       [5. , 2. , 3.5, 1. , 1. ],\n",
       "       [5.9, 3. , 4.2, 1.5, 1. ],\n",
       "       [6. , 2.2, 4. , 1. , 1. ],\n",
       "       [6.1, 2.9, 4.7, 1.4, 1. ],\n",
       "       [5.6, 2.9, 3.6, 1.3, 1. ],\n",
       "       [6.7, 3.1, 4.4, 1.4, 1. ],\n",
       "       [5.6, 3. , 4.5, 1.5, 1. ],\n",
       "       [5.8, 2.7, 4.1, 1. , 1. ],\n",
       "       [6.2, 2.2, 4.5, 1.5, 1. ],\n",
       "       [5.6, 2.5, 3.9, 1.1, 1. ],\n",
       "       [5.9, 3.2, 4.8, 1.8, 1. ],\n",
       "       [6.1, 2.8, 4. , 1.3, 1. ],\n",
       "       [6.3, 2.5, 4.9, 1.5, 1. ],\n",
       "       [6.1, 2.8, 4.7, 1.2, 1. ],\n",
       "       [6.4, 2.9, 4.3, 1.3, 1. ],\n",
       "       [6.6, 3. , 4.4, 1.4, 1. ],\n",
       "       [6.8, 2.8, 4.8, 1.4, 1. ],\n",
       "       [6.7, 3. , 5. , 1.7, 1. ],\n",
       "       [6. , 2.9, 4.5, 1.5, 1. ],\n",
       "       [5.7, 2.6, 3.5, 1. , 1. ],\n",
       "       [5.5, 2.4, 3.8, 1.1, 1. ],\n",
       "       [5.5, 2.4, 3.7, 1. , 1. ],\n",
       "       [5.8, 2.7, 3.9, 1.2, 1. ],\n",
       "       [6. , 2.7, 5.1, 1.6, 1. ],\n",
       "       [5.4, 3. , 4.5, 1.5, 1. ],\n",
       "       [6. , 3.4, 4.5, 1.6, 1. ],\n",
       "       [6.7, 3.1, 4.7, 1.5, 1. ],\n",
       "       [6.3, 2.3, 4.4, 1.3, 1. ],\n",
       "       [5.6, 3. , 4.1, 1.3, 1. ],\n",
       "       [5.5, 2.5, 4. , 1.3, 1. ],\n",
       "       [5.5, 2.6, 4.4, 1.2, 1. ],\n",
       "       [6.1, 3. , 4.6, 1.4, 1. ],\n",
       "       [5.8, 2.6, 4. , 1.2, 1. ],\n",
       "       [5. , 2.3, 3.3, 1. , 1. ],\n",
       "       [5.6, 2.7, 4.2, 1.3, 1. ],\n",
       "       [5.7, 3. , 4.2, 1.2, 1. ],\n",
       "       [5.7, 2.9, 4.2, 1.3, 1. ],\n",
       "       [6.2, 2.9, 4.3, 1.3, 1. ],\n",
       "       [5.1, 2.5, 3. , 1.1, 1. ],\n",
       "       [5.7, 2.8, 4.1, 1.3, 1. ],\n",
       "       [6.3, 3.3, 6. , 2.5, 2. ],\n",
       "       [5.8, 2.7, 5.1, 1.9, 2. ],\n",
       "       [7.1, 3. , 5.9, 2.1, 2. ],\n",
       "       [6.3, 2.9, 5.6, 1.8, 2. ],\n",
       "       [6.5, 3. , 5.8, 2.2, 2. ],\n",
       "       [7.6, 3. , 6.6, 2.1, 2. ],\n",
       "       [4.9, 2.5, 4.5, 1.7, 2. ],\n",
       "       [7.3, 2.9, 6.3, 1.8, 2. ],\n",
       "       [6.7, 2.5, 5.8, 1.8, 2. ],\n",
       "       [7.2, 3.6, 6.1, 2.5, 2. ],\n",
       "       [6.5, 3.2, 5.1, 2. , 2. ],\n",
       "       [6.4, 2.7, 5.3, 1.9, 2. ],\n",
       "       [6.8, 3. , 5.5, 2.1, 2. ],\n",
       "       [5.7, 2.5, 5. , 2. , 2. ],\n",
       "       [5.8, 2.8, 5.1, 2.4, 2. ],\n",
       "       [6.4, 3.2, 5.3, 2.3, 2. ],\n",
       "       [6.5, 3. , 5.5, 1.8, 2. ],\n",
       "       [7.7, 3.8, 6.7, 2.2, 2. ],\n",
       "       [7.7, 2.6, 6.9, 2.3, 2. ],\n",
       "       [6. , 2.2, 5. , 1.5, 2. ],\n",
       "       [6.9, 3.2, 5.7, 2.3, 2. ],\n",
       "       [5.6, 2.8, 4.9, 2. , 2. ],\n",
       "       [7.7, 2.8, 6.7, 2. , 2. ],\n",
       "       [6.3, 2.7, 4.9, 1.8, 2. ],\n",
       "       [6.7, 3.3, 5.7, 2.1, 2. ],\n",
       "       [7.2, 3.2, 6. , 1.8, 2. ],\n",
       "       [6.2, 2.8, 4.8, 1.8, 2. ],\n",
       "       [6.1, 3. , 4.9, 1.8, 2. ],\n",
       "       [6.4, 2.8, 5.6, 2.1, 2. ],\n",
       "       [7.2, 3. , 5.8, 1.6, 2. ],\n",
       "       [7.4, 2.8, 6.1, 1.9, 2. ],\n",
       "       [7.9, 3.8, 6.4, 2. , 2. ],\n",
       "       [6.4, 2.8, 5.6, 2.2, 2. ],\n",
       "       [6.3, 2.8, 5.1, 1.5, 2. ],\n",
       "       [6.1, 2.6, 5.6, 1.4, 2. ],\n",
       "       [7.7, 3. , 6.1, 2.3, 2. ],\n",
       "       [6.3, 3.4, 5.6, 2.4, 2. ],\n",
       "       [6.4, 3.1, 5.5, 1.8, 2. ],\n",
       "       [6. , 3. , 4.8, 1.8, 2. ],\n",
       "       [6.9, 3.1, 5.4, 2.1, 2. ],\n",
       "       [6.7, 3.1, 5.6, 2.4, 2. ],\n",
       "       [6.9, 3.1, 5.1, 2.3, 2. ],\n",
       "       [5.8, 2.7, 5.1, 1.9, 2. ],\n",
       "       [6.8, 3.2, 5.9, 2.3, 2. ],\n",
       "       [6.7, 3.3, 5.7, 2.5, 2. ],\n",
       "       [6.7, 3. , 5.2, 2.3, 2. ],\n",
       "       [6.3, 2.5, 5. , 1.9, 2. ],\n",
       "       [6.5, 3. , 5.2, 2. , 2. ],\n",
       "       [6.2, 3.4, 5.4, 2.3, 2. ],\n",
       "       [5.9, 3. , 5.1, 1.8, 2. ]])"
      ]
     },
     "execution_count": 110,
     "metadata": {},
     "output_type": "execute_result"
    }
   ],
   "source": [
    "# extract a matriz from the df\n",
    "iris_matrix = iris_df.values\n",
    "iris_matrix"
   ]
  },
  {
   "cell_type": "markdown",
   "id": "35d6644e",
   "metadata": {},
   "source": [
    "# Common functions"
   ]
  },
  {
   "cell_type": "markdown",
   "id": "585eb85c",
   "metadata": {},
   "source": [
    "## Function to calculate Euclidean Distance"
   ]
  },
  {
   "cell_type": "code",
   "execution_count": 111,
   "id": "a5380f39",
   "metadata": {},
   "outputs": [],
   "source": [
    "def calculate_euclidean_distance(np_array1, np_array2):\n",
    "    \"\"\"\n",
    "    Args:\n",
    "        np_array1 (np.ndarray): 1-dimensional array with n elements \n",
    "        np_array2 (np.ndarray): 1-dimensional array with n elements \n",
    "    \"\"\"\n",
    "    # Calculate: 𝑑 = sqrt((𝑋1 −𝑌1)^2+ (𝑋2 − 𝑌2)^2+ ...  + (𝑋𝑛 − 𝑌𝑛)^2)\n",
    "    return np.sqrt(np.sum((np_array1 - np_array2) ** 2))"
   ]
  },
  {
   "cell_type": "markdown",
   "id": "abc0ff91",
   "metadata": {},
   "source": [
    "## Function to assign an entry to a cluster"
   ]
  },
  {
   "cell_type": "code",
   "execution_count": 112,
   "id": "0c40d316",
   "metadata": {},
   "outputs": [],
   "source": [
    "def assign_to_cluster(entry, centroids):\n",
    "    \"\"\"\n",
    "    Args:\n",
    "        entry (np.ndarray): the entry to be assigned. It is a 1-dimensional array with n elements.\n",
    "        centroids (List[np.ndarray]): a list containing the centroids of each cluster. Each centroid is a 1-dimensional NumPy array with n elements. \n",
    "    \"\"\"\n",
    "    # this variable is used to retorn the cluster \n",
    "    cluster = -1\n",
    "    # assign to min_distance the larger float\n",
    "    min_distance = sys.float_info.max\n",
    "    num_clusters = len(centroids)\n",
    "    for i in range(num_clusters):\n",
    "        # calculate euclidian distance \n",
    "        current_distance = calculate_euclidean_distance(entry, centroids[i])\n",
    "        if current_distance < min_distance:\n",
    "            min_distance = current_distance\n",
    "            cluster = i\n",
    "    # return the cluster to which the entry belongs and the euclidean distance.\n",
    "    return cluster, min_distance"
   ]
  },
  {
   "cell_type": "markdown",
   "id": "219064f4",
   "metadata": {},
   "source": [
    "## Function to assign all entries to clusters (get clusters)"
   ]
  },
  {
   "cell_type": "code",
   "execution_count": 113,
   "id": "ff933293",
   "metadata": {},
   "outputs": [],
   "source": [
    "def get_clusters(matrix, centroids):\n",
    "    \"\"\"\n",
    "    Args: \n",
    "        matrix (np.ndarray): an mxn matrix obtained from the pandas dataframe.\n",
    "        centroids (List[np.ndarray]): a list containing the centroids of each cluster. Each centroid is a 1-dimensional NumPy array with n elements. \n",
    "    \"\"\"\n",
    "    # declare a list of lists, each inner list represents a different cluster\n",
    "    clusters = [[] for _ in range(len(centroids))]\n",
    "    # iterate over the rows\n",
    "    for i in range(matrix.shape[0]):\n",
    "        # get the cluster to which the entry belongs.\n",
    "        cluster_assigned, _ = assign_to_cluster(matrix[i, :], centroids)\n",
    "        clusters[cluster_assigned].append(i)\n",
    "    return clusters"
   ]
  },
  {
   "cell_type": "markdown",
   "id": "08a52868",
   "metadata": {},
   "source": [
    "## Function to initialize centroids with random numbers "
   ]
  },
  {
   "cell_type": "code",
   "execution_count": 114,
   "id": "d4ee8034",
   "metadata": {},
   "outputs": [],
   "source": [
    "def init_centroids_random(matrix, centroids): \n",
    "    \"\"\"\n",
    "    Args: \n",
    "        matrix (np.ndarray): an mxn matrix obtained from the pandas dataframe.\n",
    "        centroids (List[np.ndarray]): a list containing the centroids of each cluster. Each centroid is a 1-dimensional NumPy array with n elements. \n",
    "    \"\"\"\n",
    "    dimensions = matrix.shape[1] # number of columns\n",
    "    centroids_count = len(centroids)\n",
    "    # Iterate through column\n",
    "    for i in range(dimensions):\n",
    "        # get the range of column values \n",
    "        min_value = np.min(matrix[:, i])\n",
    "        max_value = np.max(matrix[:, i])\n",
    "        # Iterate through centroids\n",
    "        for j in range(centroids_count):\n",
    "            # generate a random number within the range. \n",
    "            centroids[j][i] = np.random.uniform(min_value, max_value)\n",
    "    return centroids"
   ]
  },
  {
   "cell_type": "markdown",
   "id": "afeabe56",
   "metadata": {},
   "source": [
    "# K-means algorithm"
   ]
  },
  {
   "cell_type": "code",
   "execution_count": 115,
   "id": "adc962a2",
   "metadata": {},
   "outputs": [],
   "source": [
    "def recalculate_centroids_k_means(matrix, clusters):\n",
    "    \"\"\"\n",
    "    Args: \n",
    "        matrix (np.ndarray): an mxn matrix obtained from the pandas dataframe.\n",
    "        clusters (List[List[]]): a list containing lists representing clusters. \n",
    "            Each inner list contains the index of each entry that belongs to the cluster.\n",
    "    \"\"\"\n",
    "    #dimentions = matrix.shape[1]\n",
    "    n_clusters = len(clusters)\n",
    "    # declare a list that represent centroids\n",
    "    centroids = [None] * n_clusters\n",
    "    for i in range(n_clusters):\n",
    "        if len(clusters[i]) > 0:\n",
    "            # get the new centroids calculating the mean across dimensions\n",
    "            centroids[i] = np.mean(matrix[clusters[i]], axis=0)\n",
    "        else: \n",
    "            # when the cluster do not have entries, we generate random values again\n",
    "            centroids[i] = []\n",
    "            for j in range(matrix.shape[1]):\n",
    "                centroids[i].append(np.random.uniform(np.min(matrix[:, j]), np.max(matrix[:, j])))\n",
    "    return centroids"
   ]
  },
  {
   "cell_type": "code",
   "execution_count": 116,
   "id": "550492fb",
   "metadata": {},
   "outputs": [],
   "source": [
    "def k_means(matrix, k):\n",
    "    # get the number of columns in the matrix\n",
    "    n = matrix.shape[1]\n",
    "    # declare a list containing np.arrays that represent arrays\n",
    "    centroids = [np.zeros(n) for _ in range(k)]\n",
    "    # (1) Initialize centroids with random number\n",
    "    init_centroids_random(matrix, centroids)\n",
    "    # repit while the centroids values do not converge\n",
    "    converged = False\n",
    "    while not converged:\n",
    "        # (2) Assign entries to centroids\n",
    "        clusters = get_clusters(matrix, centroids)\n",
    "        #print(centroids)\n",
    "        #print(clusters)\n",
    "        # (3) Recalculate centroid values\n",
    "        updated_centroids = recalculate_centroids_k_means(matrix, clusters)\n",
    "        #print(updated_centroids)\n",
    "        #print(\"--------------------------\")\n",
    "        if np.array_equal(centroids, updated_centroids):\n",
    "            converged = True\n",
    "        else:\n",
    "            centroids = updated_centroids\n",
    "    return clusters, centroids"
   ]
  },
  {
   "cell_type": "markdown",
   "id": "ec68181b",
   "metadata": {},
   "source": [
    "# Genetic algorithm"
   ]
  },
  {
   "cell_type": "code",
   "execution_count": null,
   "id": "e1d514c9",
   "metadata": {},
   "outputs": [],
   "source": [
    "# code"
   ]
  },
  {
   "cell_type": "markdown",
   "id": "ec47aadd",
   "metadata": {},
   "source": [
    "# Brute force algorithm"
   ]
  },
  {
   "cell_type": "code",
   "execution_count": 94,
   "id": "696d32d4",
   "metadata": {},
   "outputs": [],
   "source": [
    "# code"
   ]
  },
  {
   "cell_type": "markdown",
   "id": "aa837047",
   "metadata": {},
   "source": [
    "# Test"
   ]
  },
  {
   "cell_type": "code",
   "execution_count": 117,
   "id": "f56e2e0e",
   "metadata": {
    "scrolled": true
   },
   "outputs": [
    {
     "name": "stdout",
     "output_type": "stream",
     "text": [
      "[[56, 70, 85], [102, 109, 120, 143], [103, 108, 111, 116, 128, 132, 137], [68, 72, 87], [110, 112, 139, 141, 145, 147], [57, 60, 93, 98], [54, 58, 65, 75, 76, 86], [64], [115, 136, 148], [79], [119], [50, 52, 77], [5, 10, 18, 20, 31, 36, 48], [125, 129], [53, 62, 69, 80, 81, 89], [101, 113, 121, 142], [117, 131], [59], [114], [55, 66, 84, 90], [17, 19, 21, 23, 24, 26, 27, 43, 44, 46], [83], [106], [105, 107, 118, 122, 130, 135], [0, 4, 6, 7, 9, 11, 22, 25, 28, 29, 30, 34, 35, 37, 39, 40, 49], [1, 2, 3, 8, 12, 13, 38, 41, 42, 45, 47], [51, 63, 73, 74, 78, 91, 97], [61, 67, 71, 82, 88, 92, 94, 95, 96, 99], [100, 104, 124, 140, 144], [134], [14, 15, 16, 32, 33], [123, 126, 127, 133, 138, 146, 149]]\n"
     ]
    }
   ],
   "source": [
    "clusters, _ = k_means(iris_matrix, 32)\n",
    "print(clusters)"
   ]
  },
  {
   "cell_type": "code",
   "execution_count": 118,
   "id": "9f2ea098",
   "metadata": {
    "scrolled": false
   },
   "outputs": [
    {
     "name": "stdout",
     "output_type": "stream",
     "text": [
      "[[0, 1, 2, 3, 4, 5, 6, 7, 8, 9, 10, 11, 12, 13, 14, 15, 16, 17, 18, 19, 20, 21, 22, 23, 24, 25, 26, 27, 28, 29, 30, 31, 32, 33, 34, 35, 36, 37, 38, 39, 40, 41, 42, 43, 44, 45, 46, 47, 48, 49], [50, 51, 52, 54, 56, 58, 63, 65, 68, 70, 72, 73, 74, 75, 76, 77, 78, 83, 85, 86, 87, 91, 97, 101, 113, 114, 119, 121, 123, 126, 127, 133, 134, 138, 142, 146, 149], [53, 55, 57, 59, 60, 61, 62, 64, 66, 67, 69, 71, 79, 80, 81, 82, 84, 88, 89, 90, 92, 93, 94, 95, 96, 98, 99, 106], [100, 102, 103, 104, 105, 107, 108, 109, 110, 111, 112, 115, 116, 117, 118, 120, 122, 124, 125, 128, 129, 130, 131, 132, 135, 136, 137, 139, 140, 141, 143, 144, 145, 147, 148]]\n"
     ]
    }
   ],
   "source": [
    "clusters, _ = k_means(iris_matrix, 4)\n",
    "print(clusters)"
   ]
  },
  {
   "cell_type": "code",
   "execution_count": 100,
   "id": "6b86f63a",
   "metadata": {},
   "outputs": [
    {
     "name": "stdout",
     "output_type": "stream",
     "text": [
      "[[50, 51, 52, 53, 54, 55, 56, 57, 58, 59, 60, 61, 62, 63, 64, 65, 66, 67, 68, 69, 70, 71, 72, 73, 74, 75, 76, 78, 79, 80, 81, 82, 83, 84, 85, 86, 87, 88, 89, 90, 91, 92, 93, 94, 95, 96, 97, 98, 99, 106], [0, 1, 2, 3, 4, 5, 6, 7, 8, 9, 10, 11, 12, 13, 14, 15, 16, 17, 18, 19, 20, 21, 22, 23, 24, 25, 26, 27, 28, 29, 30, 31, 32, 33, 34, 35, 36, 37, 38, 39, 40, 41, 42, 43, 44, 45, 46, 47, 48, 49], [77, 100, 101, 102, 103, 104, 105, 107, 108, 109, 110, 111, 112, 113, 114, 115, 116, 117, 118, 119, 120, 121, 122, 123, 124, 125, 126, 127, 128, 129, 130, 131, 132, 133, 134, 135, 136, 137, 138, 139, 140, 141, 142, 143, 144, 145, 146, 147, 148, 149]]\n"
     ]
    }
   ],
   "source": [
    "clusters, _ = k_means(iris_matrix, 3)\n",
    "print(clusters)"
   ]
  }
 ],
 "metadata": {
  "kernelspec": {
   "display_name": "Python 3 (ipykernel)",
   "language": "python",
   "name": "python3"
  },
  "language_info": {
   "codemirror_mode": {
    "name": "ipython",
    "version": 3
   },
   "file_extension": ".py",
   "mimetype": "text/x-python",
   "name": "python",
   "nbconvert_exporter": "python",
   "pygments_lexer": "ipython3",
   "version": "3.10.12"
  }
 },
 "nbformat": 4,
 "nbformat_minor": 5
}
